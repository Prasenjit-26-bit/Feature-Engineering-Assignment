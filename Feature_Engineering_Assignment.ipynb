{
  "nbformat": 4,
  "nbformat_minor": 0,
  "metadata": {
    "colab": {
      "provenance": []
    },
    "kernelspec": {
      "name": "python3",
      "display_name": "Python 3"
    },
    "language_info": {
      "name": "python"
    }
  },
  "cells": [
    {
      "cell_type": "markdown",
      "source": [
        "#Feature Engineering"
      ],
      "metadata": {
        "id": "Qp0HVolAfJzQ"
      }
    },
    {
      "cell_type": "markdown",
      "source": [
        "Assignment Questions"
      ],
      "metadata": {
        "id": "hf829Hl7fOLZ"
      }
    },
    {
      "cell_type": "markdown",
      "source": [
        "1. What is a parameter?\n",
        "- In the context of feature engineering, a parameter refers to a tunable variable within a feature engineering process or a machine learning model, distinct from the input features themselves. Parameters are often used to control how transformations are applied to the data or to guide the learning process of a model."
      ],
      "metadata": {
        "id": "Ek2cG3QvfRjb"
      }
    },
    {
      "cell_type": "markdown",
      "source": [
        "2. What is correlation?\n",
        "- Correlation is a statistical measure that expresses the extent to which two variables are linearly related\n",
        "\n",
        "What does negative correlation mean?\n",
        "- Negative correlation, or inverse correlation, describes a situation where, with two variables, one variable increases in value while the other decreases."
      ],
      "metadata": {
        "id": "jF4wuGOGf0RC"
      }
    },
    {
      "cell_type": "markdown",
      "source": [
        "3. Define Machine Learning. What are the main components in Machine Learning?\n",
        "- Machine learning is a field of artificial intelligence that allows computers to learn from data without being explicitly programmed. It uses algorithms and models to analyze data, find patterns, and make predictions or decisions. The main components of machine learning are data, algorithms, models, and predictions."
      ],
      "metadata": {
        "id": "k60ztMSwf_k4"
      }
    },
    {
      "cell_type": "markdown",
      "source": [
        "4 How does loss value help in determining whether the model is good or not?\n",
        "- The loss value, in machine learning, serves as a crucial indicator of a model's performance. A lower loss value generally signifies better model performance, meaning the model's predictions are closer to the actual values. Conversely, a higher loss value suggests the model is making significant errors and is not performing well."
      ],
      "metadata": {
        "id": "4wxO_eA_g4FL"
      }
    },
    {
      "cell_type": "markdown",
      "source": [
        "5. What are continuous and categorical variables?\n",
        "- In statistics, continuous variables represent quantities that can take any value within a given range, while categorical variables represent categories or groups."
      ],
      "metadata": {
        "id": "JDKfZZUXhJje"
      }
    },
    {
      "cell_type": "markdown",
      "source": [
        "6. How do we handle categorical variables in Machine Learning? What are the common t\n",
        "echniques?\n",
        "- In machine learning, categorical variables need to be converted into numerical representations to be used by algorithms. Common techniques include one-hot encoding, label encoding, ordinal encoding, and binary encoding, each suited for different scenarios and dataset characteristics."
      ],
      "metadata": {
        "id": "pjVetJRThaBu"
      }
    },
    {
      "cell_type": "markdown",
      "source": [
        "7. What do you mean by training and testing a dataset?\n",
        "- \"training\" refers to the process of teaching a model to learn patterns from data, while \"testing\" involves evaluating the model's performance on unseen data to assess its ability to generalize."
      ],
      "metadata": {
        "id": "PAJfJJnFhlnA"
      }
    },
    {
      "cell_type": "markdown",
      "source": [
        "8. What is sklearn.preprocessing?\n",
        "- The sklearn. preprocessing package provides several common utility functions and transformer classes to change raw feature vectors into a representation that is more suitable for the downstream estimators."
      ],
      "metadata": {
        "id": "fikVZBIlhwqt"
      }
    },
    {
      "cell_type": "markdown",
      "source": [
        "9. What is a Test set?\n",
        "- Test, training and validation setsA test set is a portion of data that is separate from the training data and is used to evaluate the performance of a machine learning model after it has been trained."
      ],
      "metadata": {
        "id": "rDPJ_7PPh6x9"
      }
    },
    {
      "cell_type": "markdown",
      "source": [
        "10. How do we split data for model fitting (training and testing) in Python?\n",
        "- To split data for model fitting, training, and testing in Python, you can use the train_test_split function from the scikit-learn library. This function divides your dataset into training and testing sets, typically in a ratio of 80% for training and 20% for testing, or 70% for training and 30% for testing.\n",
        "\n",
        "How do you approach a Machine Learning problem?\n",
        "- Start by clearly defining the problem and setting clear goals, then determine the appropriate data collection and preprocessing steps. Next, select an appropriate model, train it, and rigorously evaluate its performance using validation techniques. Finally, refine the model through hyperparameter tuning and iterate as needed."
      ],
      "metadata": {
        "id": "4fKdAtciiEC7"
      }
    },
    {
      "cell_type": "markdown",
      "source": [
        "11. Why do we have to perform EDA before fitting a model to the data?\n",
        "- It helps identify data issues, understand patterns, and guide model selection and feature engineering, ultimately leading to more accurate and reliable models."
      ],
      "metadata": {
        "id": "DRUoEF_TihqT"
      }
    },
    {
      "cell_type": "markdown",
      "source": [
        "12. What is correlation?\n",
        "- Correlation is a statistical measure that expresses the extent to which two variables are linearly related"
      ],
      "metadata": {
        "id": "SkvkaVM-iuWT"
      }
    },
    {
      "cell_type": "markdown",
      "source": [
        "13. What does negative correlation mean?\n",
        "- Negative correlation, or inverse correlation, describes a situation where, with two variables, one variable increases in value while the other decreases."
      ],
      "metadata": {
        "id": "pvMJH5jZi4TN"
      }
    },
    {
      "cell_type": "markdown",
      "source": [
        "14. How can you find correlation between variables in Python/\n",
        "- correlation_matrix = df.corr()\n",
        "- df[['col1', 'col2']].corr().iloc[0, 1]"
      ],
      "metadata": {
        "id": "vaL903kmjRHK"
      }
    },
    {
      "cell_type": "markdown",
      "source": [
        "15. What is causation? Explain difference between correlation and causation with an example?\n",
        "- Causation means one event directly influences another, causing a specific outcome. Correlation, on the other hand, indicates a relationship between two variables, but one doesn't necessarily cause the other."
      ],
      "metadata": {
        "id": "WyMu7vVMkHSe"
      }
    },
    {
      "cell_type": "markdown",
      "source": [
        "16. What is an Optimizer? What are different types of optimizers? Explain each with an example.\n",
        "- An optimizer in machine learning is an algorithm that adjusts model parameters (like weights and biases) during training to minimize the loss function, aiming for better predictions."
      ],
      "metadata": {
        "id": "ob4bsZzIkRnR"
      }
    },
    {
      "cell_type": "markdown",
      "source": [
        "17. What is sklearn.linear_model ?\n",
        "- linear_model is a class of the sklearn module if contain different functions for performing machine learning with linear models. The term linear model implies that the model is specified as a linear combination of features."
      ],
      "metadata": {
        "id": "GwbnClxKknNw"
      }
    },
    {
      "cell_type": "markdown",
      "source": [
        "18. What does model.fit() do? What arguments must be given?\n",
        "- During training, the model adjusts its internal parameters (weights and biases) to minimize the loss function using optimization techniques like Gradient Descent"
      ],
      "metadata": {
        "id": "18nYWfBDk71a"
      }
    },
    {
      "cell_type": "markdown",
      "source": [
        "19. What does model.predict() do? What arguments must be given?\n",
        "- Purpose : model. predict() is used to generate predictions from the trained model based on new input data. It does not require true labels and does not compute any metrics."
      ],
      "metadata": {
        "id": "K6ObWvInlFeq"
      }
    },
    {
      "cell_type": "markdown",
      "source": [
        "20. What are continuous and categorical variables?\n",
        "- In statistics, continuous variables represent quantities that can take any value within a given range, while categorical variables represent categories or groups."
      ],
      "metadata": {
        "id": "7AwLwmbwlRUy"
      }
    },
    {
      "cell_type": "markdown",
      "source": [
        "21. What is feature scaling? How does it help in Machine Learning?\n",
        "- Feature scaling in machine learning is a data preprocessing technique that transforms the numerical features of a dataset to a common scale or range."
      ],
      "metadata": {
        "id": "kQMtgBA7layu"
      }
    },
    {
      "cell_type": "markdown",
      "source": [
        "22. How do we perform scaling in Python?\n",
        "- Min Max Scaling. In min-max you will subtract the minimum value in the dataset with all the values and then divide this by the range of the dataset(maximum-minimum)"
      ],
      "metadata": {
        "id": "VpB7eHWclida"
      }
    },
    {
      "cell_type": "markdown",
      "source": [
        "23. What is sklearn.preprocessing?\n",
        "- The sklearn. preprocessing package provides several common utility functions and transformer classes to change raw feature vectors into a representation that is more suitable for the downstream estimators."
      ],
      "metadata": {
        "id": "yFO9i0E5lrU3"
      }
    },
    {
      "cell_type": "markdown",
      "source": [
        "24. How do we split data for model fitting (training and testing) in Python?\n",
        "- To split data for model fitting, training, and testing in Python, you can use the train_test_split function from the scikit-learn library. This function divides your dataset into training and testing sets, typically in a ratio of 80% for training and 20% for testing, or 70% for training and 30% for testing."
      ],
      "metadata": {
        "id": "cajZVh-Sl0Jg"
      }
    },
    {
      "cell_type": "markdown",
      "source": [
        "25. Explain data encoding?\n",
        "- Data encoding is the process of converting information into a specific format, typically for storage, transmission, or analysis."
      ],
      "metadata": {
        "id": "-fTZHW2Cl7pd"
      }
    }
  ]
}